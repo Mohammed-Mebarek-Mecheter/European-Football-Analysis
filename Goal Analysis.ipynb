{
 "cells": [
  {
   "cell_type": "code",
   "execution_count": 9,
   "id": "initial_id",
   "metadata": {
    "collapsed": true,
    "ExecuteTime": {
     "end_time": "2023-09-29T20:47:54.076683Z",
     "start_time": "2023-09-29T20:47:53.996206100Z"
    }
   },
   "outputs": [],
   "source": [
    "import sqlite3"
   ]
  },
  {
   "cell_type": "code",
   "execution_count": 10,
   "outputs": [],
   "source": [
    "# Connect to the SQLite database\n",
    "conn = sqlite3.connect('european_database.sqlite')"
   ],
   "metadata": {
    "collapsed": false,
    "ExecuteTime": {
     "end_time": "2023-09-29T20:47:54.086677400Z",
     "start_time": "2023-09-29T20:47:54.009721700Z"
    }
   },
   "id": "fc55c29adc8abd2c"
  },
  {
   "cell_type": "code",
   "execution_count": 11,
   "outputs": [],
   "source": [
    "cursor = conn.cursor()\n",
    "# Check for missing values in 'FTHG' and 'FTAG' columns\n",
    "cursor.execute(\"SELECT COUNT(*) FROM matchs WHERE FTHG IS NULL OR FTAG IS NULL\")\n",
    "missing_values_count = cursor.fetchone()[0]\n",
    "\n",
    "if missing_values_count > 0:\n",
    "    # Handle missing values as needed (e.g., imputation)\n",
    "    # Example: Impute missing values with zeros\n",
    "    cursor.execute(\"UPDATE matchs SET FTHG = 0 WHERE FTHG IS NULL\")\n",
    "    cursor.execute(\"UPDATE matchs SET FTAG = 0 WHERE FTAG IS NULL\")\n",
    "    conn.commit()"
   ],
   "metadata": {
    "collapsed": false,
    "ExecuteTime": {
     "end_time": "2023-09-29T20:47:54.134651600Z",
     "start_time": "2023-09-29T20:47:54.030710200Z"
    }
   },
   "id": "dc53293bb8ccd0b5"
  },
  {
   "cell_type": "code",
   "execution_count": 12,
   "outputs": [],
   "source": [
    "# Ensure that 'FTHG' and 'FTAG' columns contain valid numerical values\n",
    "cursor.execute(\"PRAGMA foreign_keys = ON;\")\n",
    "cursor.execute(\"PRAGMA table_info(matchs)\")\n",
    "\n",
    "columns = cursor.fetchall()\n",
    "for column in columns:\n",
    "    if column[1] in ['FTHG', 'FTAG'] and column[2] != 'REAL':\n",
    "        # If the column is not of type REAL, convert it to REAL\n",
    "        cursor.execute(f\"ALTER TABLE matchs RENAME TO matchs_old;\")\n",
    "        cursor.execute(f\"CREATE TABLE matchs AS SELECT * FROM matchs_old;\")\n",
    "        cursor.execute(f\"DROP TABLE matchs_old;\")\n",
    "        conn.commit()"
   ],
   "metadata": {
    "collapsed": false,
    "ExecuteTime": {
     "end_time": "2023-09-29T20:47:54.231714600Z",
     "start_time": "2023-09-29T20:47:54.137649700Z"
    }
   },
   "id": "6897196c8ad35cee"
  },
  {
   "cell_type": "code",
   "execution_count": 17,
   "outputs": [],
   "source": [
    "# Select goals scored in home matches\n",
    "cursor.execute(\"SELECT FTHG FROM matchs\")\n",
    "home_goals = [row[0] for row in cursor.fetchall()]\n",
    "\n",
    "# Select goals scored in away matches\n",
    "cursor.execute(\"SELECT FTAG FROM matchs\")\n",
    "away_goals = [row[0] for row in cursor.fetchall()]\n",
    "\n",
    "# Close the database connection\n",
    "conn.close()"
   ],
   "metadata": {
    "collapsed": false,
    "ExecuteTime": {
     "end_time": "2023-09-29T21:24:12.154685400Z",
     "start_time": "2023-09-29T21:24:11.807832600Z"
    }
   },
   "id": "df1f17961eb0e39b"
  },
  {
   "cell_type": "code",
   "execution_count": 18,
   "outputs": [
    {
     "name": "stdout",
     "output_type": "stream",
     "text": [
      "Reject the null hypothesis: There is a significant difference in goal statistics between home and away matches.\n"
     ]
    }
   ],
   "source": [
    "import scipy.stats as stats\n",
    "\n",
    "# Perform the t-test\n",
    "t_stat, p_value = stats.ttest_ind(home_goals, away_goals)\n",
    "\n",
    "# Set the significance level (alpha)\n",
    "alpha = 0.05\n",
    "\n",
    "# Check the p-value against alpha\n",
    "if p_value < alpha:\n",
    "    print(\"Reject the null hypothesis: There is a significant difference in goal statistics between home and away matches.\")\n",
    "else:\n",
    "    print(\"Fail to reject the null hypothesis: There is no significant difference in goal statistics between home and away matches.\")"
   ],
   "metadata": {
    "collapsed": false,
    "ExecuteTime": {
     "end_time": "2023-09-29T21:24:14.224037Z",
     "start_time": "2023-09-29T21:24:14.180589100Z"
    }
   },
   "id": "80da437ceb8aeadb"
  },
  {
   "cell_type": "code",
   "execution_count": null,
   "outputs": [],
   "source": [],
   "metadata": {
    "collapsed": false
   },
   "id": "879dc07beffd429e"
  }
 ],
 "metadata": {
  "kernelspec": {
   "display_name": "Python 3",
   "language": "python",
   "name": "python3"
  },
  "language_info": {
   "codemirror_mode": {
    "name": "ipython",
    "version": 2
   },
   "file_extension": ".py",
   "mimetype": "text/x-python",
   "name": "python",
   "nbconvert_exporter": "python",
   "pygments_lexer": "ipython2",
   "version": "2.7.6"
  }
 },
 "nbformat": 4,
 "nbformat_minor": 5
}
