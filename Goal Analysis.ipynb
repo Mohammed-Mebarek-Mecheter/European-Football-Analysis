{
 "cells": [
  {
   "cell_type": "code",
   "execution_count": 1,
   "id": "initial_id",
   "metadata": {
    "collapsed": true,
    "ExecuteTime": {
     "end_time": "2023-10-03T19:52:47.521028600Z",
     "start_time": "2023-10-03T19:52:47.519524300Z"
    }
   },
   "outputs": [],
   "source": [
    "import sqlite3"
   ]
  },
  {
   "cell_type": "code",
   "execution_count": 2,
   "outputs": [],
   "source": [
    "# Connect to the SQLite database\n",
    "conn = sqlite3.connect('european_database.sqlite')"
   ],
   "metadata": {
    "collapsed": false,
    "ExecuteTime": {
     "end_time": "2023-10-03T19:52:47.542666900Z",
     "start_time": "2023-10-03T19:52:47.521028600Z"
    }
   },
   "id": "fc55c29adc8abd2c"
  },
  {
   "cell_type": "code",
   "execution_count": 3,
   "outputs": [],
   "source": [
    "cursor = conn.cursor()\n",
    "# Check for missing values in 'FTHG' and 'FTAG' columns\n",
    "cursor.execute(\"SELECT COUNT(*) FROM matchs WHERE FTHG IS NULL OR FTAG IS NULL\")\n",
    "missing_values_count = cursor.fetchone()[0]\n",
    "\n",
    "if missing_values_count > 0:\n",
    "    # Handle missing values as needed (e.g., imputation)\n",
    "    # Example: Impute missing values with zeros\n",
    "    cursor.execute(\"UPDATE matchs SET FTHG = 0 WHERE FTHG IS NULL\")\n",
    "    cursor.execute(\"UPDATE matchs SET FTAG = 0 WHERE FTAG IS NULL\")\n",
    "    conn.commit()"
   ],
   "metadata": {
    "collapsed": false,
    "ExecuteTime": {
     "end_time": "2023-10-03T19:52:47.615735200Z",
     "start_time": "2023-10-03T19:52:47.542666900Z"
    }
   },
   "id": "dc53293bb8ccd0b5"
  },
  {
   "cell_type": "code",
   "execution_count": 4,
   "outputs": [],
   "source": [
    "# Ensure that 'FTHG' and 'FTAG' columns contain valid numerical values\n",
    "cursor.execute(\"PRAGMA foreign_keys = ON;\")\n",
    "cursor.execute(\"PRAGMA table_info(matchs)\")\n",
    "\n",
    "columns = cursor.fetchall()\n",
    "for column in columns:\n",
    "    if column[1] in ['FTHG', 'FTAG'] and column[2] != 'REAL':\n",
    "        # If the column is not of type REAL, convert it to REAL\n",
    "        cursor.execute(f\"ALTER TABLE matchs RENAME TO matchs_old;\")\n",
    "        cursor.execute(f\"CREATE TABLE matchs AS SELECT * FROM matchs_old;\")\n",
    "        cursor.execute(f\"DROP TABLE matchs_old;\")\n",
    "        conn.commit()"
   ],
   "metadata": {
    "collapsed": false,
    "ExecuteTime": {
     "end_time": "2023-10-03T19:52:47.626205100Z",
     "start_time": "2023-10-03T19:52:47.621239Z"
    }
   },
   "id": "6897196c8ad35cee"
  },
  {
   "cell_type": "code",
   "execution_count": 5,
   "outputs": [],
   "source": [
    "# Select goals scored in home matches\n",
    "cursor.execute(\"SELECT FTHG FROM matchs\")\n",
    "home_goals = [row[0] for row in cursor.fetchall()]\n",
    "\n",
    "# Select goals scored in away matches\n",
    "cursor.execute(\"SELECT FTAG FROM matchs\")\n",
    "away_goals = [row[0] for row in cursor.fetchall()]\n",
    "\n",
    "# Close the database connection\n",
    "conn.close()"
   ],
   "metadata": {
    "collapsed": false,
    "ExecuteTime": {
     "end_time": "2023-10-03T19:52:48.083646300Z",
     "start_time": "2023-10-03T19:52:47.626205100Z"
    }
   },
   "id": "df1f17961eb0e39b"
  },
  {
   "cell_type": "code",
   "execution_count": 6,
   "outputs": [
    {
     "name": "stdout",
     "output_type": "stream",
     "text": [
      "Reject the null hypothesis: There is a significant difference in goal statistics between home and away matches.\n"
     ]
    }
   ],
   "source": [
    "import scipy.stats as stats\n",
    "\n",
    "# Perform the t-test\n",
    "t_stat, p_value = stats.ttest_ind(home_goals, away_goals)\n",
    "\n",
    "# Set the significance level (alpha)\n",
    "alpha = 0.05\n",
    "\n",
    "# Check the p-value against alpha\n",
    "if p_value < alpha:\n",
    "    print(\"Reject the null hypothesis: There is a significant difference in goal statistics between home and away matches.\")\n",
    "else:\n",
    "    print(\"Fail to reject the null hypothesis: There is no significant difference in goal statistics between home and away matches.\")"
   ],
   "metadata": {
    "collapsed": false,
    "ExecuteTime": {
     "end_time": "2023-10-03T19:52:48.163936500Z",
     "start_time": "2023-10-03T19:52:48.083646300Z"
    }
   },
   "id": "80da437ceb8aeadb"
  },
  {
   "cell_type": "code",
   "execution_count": 7,
   "outputs": [],
   "source": [
    "# Close the database connection\n",
    "conn.close()"
   ],
   "metadata": {
    "collapsed": false,
    "ExecuteTime": {
     "end_time": "2023-10-03T19:52:48.177578100Z",
     "start_time": "2023-10-03T19:52:48.163936500Z"
    }
   },
   "id": "879dc07beffd429e"
  }
 ],
 "metadata": {
  "kernelspec": {
   "display_name": "Python 3",
   "language": "python",
   "name": "python3"
  },
  "language_info": {
   "codemirror_mode": {
    "name": "ipython",
    "version": 2
   },
   "file_extension": ".py",
   "mimetype": "text/x-python",
   "name": "python",
   "nbconvert_exporter": "python",
   "pygments_lexer": "ipython2",
   "version": "2.7.6"
  }
 },
 "nbformat": 4,
 "nbformat_minor": 5
}
